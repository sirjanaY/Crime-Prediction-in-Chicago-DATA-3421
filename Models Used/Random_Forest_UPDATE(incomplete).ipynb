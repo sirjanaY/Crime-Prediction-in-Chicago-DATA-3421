{
  "cells": [
    {
      "cell_type": "markdown",
      "metadata": {
        "id": "IocZIIsXUwaJ"
      },
      "source": [
        "**Random Forest -Advanced Model/ Updated**"
      ]
    },
    {
      "cell_type": "markdown",
      "metadata": {},
      "source": [
        "**Model needs to be updated on insights!**"
      ]
    },
    {
      "cell_type": "code",
      "execution_count": 1,
      "metadata": {
        "id": "wfNlSEJsMBgc"
      },
      "outputs": [],
      "source": [
        "import numpy as np\n",
        "import pandas as pd\n",
        "import seaborn as sns\n",
        "from sklearn.model_selection import train_test_split\n",
        "import matplotlib.pyplot as plt\n",
        "from sklearn.ensemble import RandomForestClassifier\n",
        "from sklearn.metrics import accuracy_score, precision_score, recall_score, f1_score, confusion_matrix\n",
        "from sklearn.metrics import mean_squared_error, r2_score\n"
      ]
    },
    {
      "cell_type": "markdown",
      "metadata": {},
      "source": []
    },
    {
      "cell_type": "code",
      "execution_count": 2,
      "metadata": {},
      "outputs": [
        {
          "data": {
            "text/html": [
              "<div>\n",
              "<style scoped>\n",
              "    .dataframe tbody tr th:only-of-type {\n",
              "        vertical-align: middle;\n",
              "    }\n",
              "\n",
              "    .dataframe tbody tr th {\n",
              "        vertical-align: top;\n",
              "    }\n",
              "\n",
              "    .dataframe thead th {\n",
              "        text-align: right;\n",
              "    }\n",
              "</style>\n",
              "<table border=\"1\" class=\"dataframe\">\n",
              "  <thead>\n",
              "    <tr style=\"text-align: right;\">\n",
              "      <th></th>\n",
              "      <th>Arrest</th>\n",
              "      <th>Domestic</th>\n",
              "      <th>Beat</th>\n",
              "      <th>District</th>\n",
              "      <th>Ward</th>\n",
              "      <th>Community Area</th>\n",
              "      <th>Year</th>\n",
              "      <th>Primary Type_ARSON</th>\n",
              "      <th>Primary Type_ASSAULT</th>\n",
              "      <th>Primary Type_BATTERY</th>\n",
              "      <th>...</th>\n",
              "      <th>IUCR_5094</th>\n",
              "      <th>IUCR_5110</th>\n",
              "      <th>IUCR_5111</th>\n",
              "      <th>IUCR_5112</th>\n",
              "      <th>IUCR_5113</th>\n",
              "      <th>IUCR_5114</th>\n",
              "      <th>IUCR_5121</th>\n",
              "      <th>IUCR_5130</th>\n",
              "      <th>IUCR_5131</th>\n",
              "      <th>IUCR_5132</th>\n",
              "    </tr>\n",
              "  </thead>\n",
              "  <tbody>\n",
              "    <tr>\n",
              "      <th>0</th>\n",
              "      <td>0</td>\n",
              "      <td>0</td>\n",
              "      <td>0.550457</td>\n",
              "      <td>0.542373</td>\n",
              "      <td>1.025482</td>\n",
              "      <td>-0.582108</td>\n",
              "      <td>0.807598</td>\n",
              "      <td>0</td>\n",
              "      <td>0</td>\n",
              "      <td>0</td>\n",
              "      <td>...</td>\n",
              "      <td>0</td>\n",
              "      <td>0</td>\n",
              "      <td>0</td>\n",
              "      <td>0</td>\n",
              "      <td>0</td>\n",
              "      <td>0</td>\n",
              "      <td>0</td>\n",
              "      <td>0</td>\n",
              "      <td>0</td>\n",
              "      <td>0</td>\n",
              "    </tr>\n",
              "    <tr>\n",
              "      <th>1</th>\n",
              "      <td>0</td>\n",
              "      <td>1</td>\n",
              "      <td>1.260365</td>\n",
              "      <td>1.266538</td>\n",
              "      <td>1.822943</td>\n",
              "      <td>1.844403</td>\n",
              "      <td>0.807598</td>\n",
              "      <td>0</td>\n",
              "      <td>0</td>\n",
              "      <td>1</td>\n",
              "      <td>...</td>\n",
              "      <td>0</td>\n",
              "      <td>0</td>\n",
              "      <td>0</td>\n",
              "      <td>0</td>\n",
              "      <td>0</td>\n",
              "      <td>0</td>\n",
              "      <td>0</td>\n",
              "      <td>0</td>\n",
              "      <td>0</td>\n",
              "      <td>0</td>\n",
              "    </tr>\n",
              "    <tr>\n",
              "      <th>2</th>\n",
              "      <td>0</td>\n",
              "      <td>0</td>\n",
              "      <td>1.131685</td>\n",
              "      <td>1.121705</td>\n",
              "      <td>1.532957</td>\n",
              "      <td>-1.468719</td>\n",
              "      <td>0.807598</td>\n",
              "      <td>0</td>\n",
              "      <td>0</td>\n",
              "      <td>0</td>\n",
              "      <td>...</td>\n",
              "      <td>0</td>\n",
              "      <td>0</td>\n",
              "      <td>0</td>\n",
              "      <td>0</td>\n",
              "      <td>0</td>\n",
              "      <td>0</td>\n",
              "      <td>0</td>\n",
              "      <td>0</td>\n",
              "      <td>0</td>\n",
              "      <td>0</td>\n",
              "    </tr>\n",
              "    <tr>\n",
              "      <th>3</th>\n",
              "      <td>0</td>\n",
              "      <td>0</td>\n",
              "      <td>-0.027879</td>\n",
              "      <td>-0.036959</td>\n",
              "      <td>0.083027</td>\n",
              "      <td>-0.535445</td>\n",
              "      <td>0.807598</td>\n",
              "      <td>0</td>\n",
              "      <td>0</td>\n",
              "      <td>0</td>\n",
              "      <td>...</td>\n",
              "      <td>0</td>\n",
              "      <td>0</td>\n",
              "      <td>0</td>\n",
              "      <td>0</td>\n",
              "      <td>0</td>\n",
              "      <td>0</td>\n",
              "      <td>0</td>\n",
              "      <td>0</td>\n",
              "      <td>0</td>\n",
              "      <td>0</td>\n",
              "    </tr>\n",
              "    <tr>\n",
              "      <th>4</th>\n",
              "      <td>1</td>\n",
              "      <td>0</td>\n",
              "      <td>-0.314156</td>\n",
              "      <td>-0.326625</td>\n",
              "      <td>-1.439399</td>\n",
              "      <td>1.097784</td>\n",
              "      <td>0.807598</td>\n",
              "      <td>0</td>\n",
              "      <td>0</td>\n",
              "      <td>0</td>\n",
              "      <td>...</td>\n",
              "      <td>0</td>\n",
              "      <td>0</td>\n",
              "      <td>0</td>\n",
              "      <td>0</td>\n",
              "      <td>0</td>\n",
              "      <td>0</td>\n",
              "      <td>0</td>\n",
              "      <td>0</td>\n",
              "      <td>0</td>\n",
              "      <td>0</td>\n",
              "    </tr>\n",
              "  </tbody>\n",
              "</table>\n",
              "<p>5 rows × 543 columns</p>\n",
              "</div>"
            ],
            "text/plain": [
              "   Arrest  Domestic      Beat  District      Ward  Community Area      Year  \\\n",
              "0       0         0  0.550457  0.542373  1.025482       -0.582108  0.807598   \n",
              "1       0         1  1.260365  1.266538  1.822943        1.844403  0.807598   \n",
              "2       0         0  1.131685  1.121705  1.532957       -1.468719  0.807598   \n",
              "3       0         0 -0.027879 -0.036959  0.083027       -0.535445  0.807598   \n",
              "4       1         0 -0.314156 -0.326625 -1.439399        1.097784  0.807598   \n",
              "\n",
              "   Primary Type_ARSON  Primary Type_ASSAULT  Primary Type_BATTERY  ...  \\\n",
              "0                   0                     0                     0  ...   \n",
              "1                   0                     0                     1  ...   \n",
              "2                   0                     0                     0  ...   \n",
              "3                   0                     0                     0  ...   \n",
              "4                   0                     0                     0  ...   \n",
              "\n",
              "   IUCR_5094  IUCR_5110  IUCR_5111  IUCR_5112  IUCR_5113  IUCR_5114  \\\n",
              "0          0          0          0          0          0          0   \n",
              "1          0          0          0          0          0          0   \n",
              "2          0          0          0          0          0          0   \n",
              "3          0          0          0          0          0          0   \n",
              "4          0          0          0          0          0          0   \n",
              "\n",
              "   IUCR_5121  IUCR_5130  IUCR_5131  IUCR_5132  \n",
              "0          0          0          0          0  \n",
              "1          0          0          0          0  \n",
              "2          0          0          0          0  \n",
              "3          0          0          0          0  \n",
              "4          0          0          0          0  \n",
              "\n",
              "[5 rows x 543 columns]"
            ]
          },
          "execution_count": 2,
          "metadata": {},
          "output_type": "execute_result"
        }
      ],
      "source": [
        "df = pd.read_csv(r'C:\\Users\\Malaika\\Documents\\resized_data2.csv')\n",
        "df.head(5)"
      ]
    },
    {
      "cell_type": "code",
      "execution_count": 3,
      "metadata": {
        "colab": {
          "base_uri": "https://localhost:8080/"
        },
        "id": "fDKpvDziJmME",
        "outputId": "4b9aee5b-8a33-41c5-8998-569916bfb2a3"
      },
      "outputs": [
        {
          "name": "stdout",
          "output_type": "stream",
          "text": [
            "(86537, 543)\n",
            "86537\n",
            "<class 'pandas.core.frame.DataFrame'>\n",
            "RangeIndex: 86537 entries, 0 to 86536\n",
            "Columns: 543 entries, Arrest to IUCR_5132\n",
            "dtypes: float64(5), int64(538)\n",
            "memory usage: 358.5 MB\n"
          ]
        }
      ],
      "source": [
        "print(df.shape)\n",
        "print(len(df))\n",
        "df.info()\n"
      ]
    },
    {
      "cell_type": "markdown",
      "metadata": {
        "id": "_jCKRtZkGO0p"
      },
      "source": [
        "2. We sampled at 5k and 10K first because we assume that\n",
        "\n",
        "* Training on the large dataset takes too long, so smaller slices let us iterate quickly.\n",
        "\n",
        "* Comparing performance across samples shows when adding more data stops giving meaningful accuracy gains.\n",
        "\n",
        "* This helps us pick a good spot where the model is both fast to train and good enough."
      ]
    },
    {
      "cell_type": "markdown",
      "metadata": {
        "id": "0ybaGcGxNJl6"
      },
      "source": [
        "3. On all our models, our target varable will be set to 'Arrest' and the rest of the columns will be set as X"
      ]
    },
    {
      "cell_type": "code",
      "execution_count": 4,
      "metadata": {
        "colab": {
          "base_uri": "https://localhost:8080/"
        },
        "id": "jmHI0xjyE8HG",
        "outputId": "8c40bf6c-537e-4954-8caf-545c0a1e067f"
      },
      "outputs": [
        {
          "name": "stdout",
          "output_type": "stream",
          "text": [
            "Sample 1 Metrics:\n",
            "  Accuracy : 0.8640\n",
            "  Precision: 0.8399\n",
            "  Recall   : 0.7965\n",
            "  F1 Score : 0.8141\n"
          ]
        }
      ],
      "source": [
        "df1 = df.sample(n=5000, random_state=42)\n",
        "\n",
        "#  Define features & target\n",
        "X = df1.drop(columns='Arrest')\n",
        "y = df1['Arrest']\n",
        "\n",
        "\n",
        "#  Train/test split (80/20)\n",
        "X_train, X_test, y_train, y_test = train_test_split(\n",
        "    X, y, test_size=0.2, random_state=42\n",
        ")\n",
        "\n",
        "#  Fit the Random Forest\n",
        "rf_clf = RandomForestClassifier(\n",
        "    n_estimators=100,\n",
        "    random_state=42,\n",
        "    n_jobs=-1\n",
        ")\n",
        "rf_clf.fit(X_train, y_train)\n",
        "\n",
        "# Predict & compute metrics\n",
        "y_pred = rf_clf.predict(X_test)\n",
        "\n",
        "accuracy_1  = accuracy_score(y_test, y_pred)\n",
        "precision_1 = precision_score(y_test, y_pred, average='macro', zero_division=0)\n",
        "recall_1    = recall_score(   y_test, y_pred, average='macro', zero_division=0)\n",
        "f1_1       = f1_score(       y_test, y_pred, average='macro', zero_division=0)\n",
        "#average='macro':computes the metric separately for each class, simple avg so every class counts equally, even if some are rare.\n",
        "#zero_division=0: it just returns 0 instead of crashing or returning “nan.”\n",
        "\n",
        "\n",
        "print(\"Sample 1 Metrics:\")\n",
        "print(f\"  Accuracy : {accuracy_1:.4f}\")\n",
        "print(f\"  Precision: {precision_1:.4f}\")\n",
        "print(f\"  Recall   : {recall_1:.4f}\")\n",
        "print(f\"  F1 Score : {f1_1:.4f}\")\n"
      ]
    },
    {
      "cell_type": "code",
      "execution_count": 5,
      "metadata": {
        "colab": {
          "base_uri": "https://localhost:8080/"
        },
        "id": "02LeyxctH-O0",
        "outputId": "79a8a7ab-a540-4711-f655-5d153626b4df"
      },
      "outputs": [
        {
          "name": "stdout",
          "output_type": "stream",
          "text": [
            "Sample 2 Metrics:\n",
            "  Accuracy : 0.8700\n",
            "  Precision: 0.8418\n",
            "  Recall   : 0.8077\n",
            "  F1 Score : 0.8223\n"
          ]
        }
      ],
      "source": [
        "df2 = df.sample(n=10000, random_state=42)\n",
        "\n",
        "# Define features & target\n",
        "X = df2.drop(columns='Arrest')\n",
        "y = df2['Arrest']\n",
        "\n",
        "\n",
        "# Train/test split (80/20)\n",
        "X_train, X_test, y_train, y_test = train_test_split(\n",
        "    X, y, test_size=0.2, random_state=42\n",
        ")\n",
        "\n",
        "# Fit the Random Forest\n",
        "rf_clf = RandomForestClassifier(\n",
        "    n_estimators=100,\n",
        "    random_state=42,\n",
        "    n_jobs=-1\n",
        ")\n",
        "rf_clf.fit(X_train, y_train)\n",
        "\n",
        "# Predict & compute metrics\n",
        "y_pred = rf_clf.predict(X_test)\n",
        "\n",
        "accuracy_2  = accuracy_score(y_test, y_pred)\n",
        "precision_2 = precision_score(y_test, y_pred, average='macro', zero_division=0)\n",
        "recall_2    = recall_score(   y_test, y_pred, average='macro', zero_division=0)\n",
        "f1_2        = f1_score(       y_test, y_pred, average='macro', zero_division=0)\n",
        "\n",
        "print(\"Sample 2 Metrics:\")\n",
        "print(f\"  Accuracy : {accuracy_2:.4f}\")\n",
        "print(f\"  Precision: {precision_2:.4f}\")\n",
        "print(f\"  Recall   : {recall_2:.4f}\")\n",
        "print(f\"  F1 Score : {f1_2:.4f}\")\n"
      ]
    },
    {
      "cell_type": "code",
      "execution_count": 6,
      "metadata": {
        "colab": {
          "base_uri": "https://localhost:8080/"
        },
        "id": "B9yOWMfS70pY",
        "outputId": "1dfa4969-b629-4d95-b97b-c66913899c07"
      },
      "outputs": [
        {
          "name": "stdout",
          "output_type": "stream",
          "text": [
            " Original Metrics:\n",
            "  Accuracy : 0.8661\n",
            "  Precision: 0.8396\n",
            "  Recall   : 0.8009\n",
            "  F1 Score : 0.8171\n"
          ]
        }
      ],
      "source": [
        "X = df.drop(columns='Arrest')\n",
        "y = df['Arrest']\n",
        "\n",
        "\n",
        "#  Train/test split (80/20)\n",
        "X_train, X_test, y_train, y_test = train_test_split(\n",
        "    X, y, test_size=0.2, random_state=42\n",
        ")\n",
        "\n",
        "# Fit the Random Forest\n",
        "rf_clf = RandomForestClassifier(\n",
        "    n_estimators=100,\n",
        "    random_state=42,\n",
        "    n_jobs=-1\n",
        ")\n",
        "rf_clf.fit(X_train, y_train)\n",
        "\n",
        "#  Predict & compute metrics\n",
        "y_pred = rf_clf.predict(X_test)\n",
        "\n",
        "accuracy_rf  = accuracy_score(y_test, y_pred)\n",
        "precision_rf = precision_score(y_test, y_pred, average='macro', zero_division=0)\n",
        "recall_rf    = recall_score(   y_test, y_pred, average='macro', zero_division=0)\n",
        "f1_rf        = f1_score(       y_test, y_pred, average='macro', zero_division=0)\n",
        "\n",
        "print(\" Original Metrics:\")\n",
        "print(f\"  Accuracy : {accuracy_rf:.4f}\")\n",
        "print(f\"  Precision: {precision_rf:.4f}\")\n",
        "print(f\"  Recall   : {recall_rf:.4f}\")\n",
        "print(f\"  F1 Score : {f1_rf:.4f}\")\n",
        "\n"
      ]
    },
    {
      "cell_type": "code",
      "execution_count": 7,
      "metadata": {
        "colab": {
          "base_uri": "https://localhost:8080/",
          "height": 607
        },
        "id": "2P3QkciqOhDD",
        "outputId": "94994014-b1e5-42ad-f5ba-a9cbab224213"
      },
      "outputs": [
        {
          "data": {
            "image/png": "[encoded data removed]",
            "text/plain": [
              "<Figure size 1000x600 with 3 Axes>"
            ]
          },
          "metadata": {},
          "output_type": "display_data"
        }
      ],
      "source": [
        "#  Compute confusion matrix\n",
        "cm = confusion_matrix(y_test, y_pred)\n",
        "\n",
        "\n",
        "metrics_text = (\n",
        "    f\"Accuracy : {accuracy_rf:.2f}\\n\"\n",
        "    f\"Precision: {precision_rf:.2f}\\n\"\n",
        "    f\"Recall   : {recall_rf:.2f}\\n\"\n",
        "    f\"F1 Score : {f1_rf:.2f}\"\n",
        ")\n",
        "\n",
        "# Plot side-by-side\n",
        "fig = plt.figure(figsize=(10, 6))\n",
        "# left: confusion matrix\n",
        "ax_cm = fig.add_subplot(1, 2, 1)\n",
        "sns.heatmap(cm, annot=True, fmt=\"d\", ax=ax_cm, cmap=\"Blues\")\n",
        "ax_cm.set_title(\"Confusion Matrix\")\n",
        "ax_cm.set_xlabel(\"Predicted\")\n",
        "ax_cm.set_ylabel(\"Actual\")\n",
        "\n",
        "# right: metrics\n",
        "ax_txt = fig.add_subplot(1, 2, 2)\n",
        "ax_txt.axis(\"off\")\n",
        "ax_txt.text(0, 0.5, metrics_text, fontsize=12, va=\"center\")\n",
        "\n",
        "plt.tight_layout()\n",
        "plt.show()\n",
        "\n"
      ]
    },
    {
      "cell_type": "code",
      "execution_count": 8,
      "metadata": {
        "colab": {
          "base_uri": "https://localhost:8080/"
        },
        "id": "-4NSac6RD7QB",
        "outputId": "775bff5c-600f-496d-9e3b-86f687ef240d"
      },
      "outputs": [
        {
          "name": "stdout",
          "output_type": "stream",
          "text": [
            "| Sample Size   |   Accuracy |   Precision |   Recall |   F1 Score |\n",
            "|:--------------|-----------:|------------:|---------:|-----------:|\n",
            "| 5,000         |   0.864    |    0.839869 | 0.796483 |   0.814125 |\n",
            "| 10,000        |   0.87     |    0.841808 | 0.807716 |   0.822326 |\n",
            "| Full          |   0.866073 |    0.839632 | 0.80092  |   0.817072 |\n"
          ]
        }
      ],
      "source": [
        "\n",
        "# accuracy_1, precision_1, recall_1, f1_1 for 5,000 rows\n",
        "# accuracy_2, precision_2, recall_2, f1_2 for 10,000 rows\n",
        "# accuracy_rf, precision_rf, recall_rf, f1_rf for full dataset\n",
        "\n",
        "results = [\n",
        "    {\n",
        "        'Sample Size': '5,000',\n",
        "        'Accuracy':    accuracy_1,\n",
        "        'Precision':   precision_1,\n",
        "        'Recall':      recall_1,\n",
        "        'F1 Score':    f1_1},\n",
        "\n",
        "    {\n",
        "        'Sample Size': '10,000',\n",
        "        'Accuracy':    accuracy_2,\n",
        "        'Precision':   precision_2,\n",
        "        'Recall':      recall_2,\n",
        "        'F1 Score':    f1_2},\n",
        "    {\n",
        "        'Sample Size': 'Full',\n",
        "        'Accuracy':    accuracy_rf,\n",
        "        'Precision':   precision_rf,\n",
        "        'Recall':      recall_rf,\n",
        "        'F1 Score':    f1_rf}]\n",
        "\n",
        "df_results = pd.DataFrame(results)\n",
        "print(df_results.to_markdown(index=False))\n",
        "\n"
      ]
    },
    {
      "cell_type": "markdown",
      "metadata": {
        "id": "pZjgY8nUHU82"
      },
      "source": [
        "3. We can see that even using the full dataset does not change the metrics score by a lot, and since the model with the full data did not take too long,using more data can help with more prediction so we will be using our full dataset instead"
      ]
    },
    {
      "cell_type": "code",
      "execution_count": 15,
      "metadata": {
        "id": "qOtBRnWeEB8D"
      },
      "outputs": [],
      "source": [
        "from sklearn.model_selection import GridSearchCV\n"
      ]
    },
    {
      "cell_type": "code",
      "execution_count": null,
      "metadata": {},
      "outputs": [
        {
          "name": "stdout",
          "output_type": "stream",
          "text": [
            "Fitting 3 folds for each of 12 candidates, totalling 36 fits\n",
            "Best Hyperparameters: {'max_depth': None, 'min_samples_split': 10, 'n_estimators': 300}\n",
            "Best CV F1:0.7455\n",
            "\n",
            "Test F1 : 0.7453463340509054\n",
            "Confusion Matrix:\n",
            " [[12354   410]\n",
            " [ 1601  2943]]\n"
          ]
        }
      ],
      "source": [
        "#  Defining hyperparameter grid\n",
        "from sklearn.model_selection import GridSearchCV\n",
        "\n",
        "X = df.drop(columns='Arrest')\n",
        "y = df['Arrest']\n",
        "\n",
        "X_train, X_test, y_train, y_test =train_test_split(X, y, test_size=0.2, random_state=42)\n",
        "\n",
        "param_grid = {'n_estimators':[100, 200,300],'max_depth':[10, None],'min_samples_split': [5, 10]}\n",
        "\n",
        "# Grid Search on RandomForest\n",
        "grid = GridSearchCV(RandomForestClassifier(random_state=42, n_jobs=-1),param_grid,cv=3,scoring='f1',n_jobs=-1,verbose=1)\n",
        "grid.fit(X_train, y_train)\n",
        "\n",
        "print(\"Best Hyperparameters:\",grid.best_params_)\n",
        "print(f\"Best CV F1:{grid.best_score_:.4f}\\n\")\n",
        "\n",
        "# Retraining best model & evaluate on test\n",
        "best_rf = grid.best_estimator_\n",
        "y_pred = best_rf.predict(X_test)\n",
        "\n",
        "print(\"Test F1 :\", f1_score(y_test, y_pred))\n",
        "print(\"Confusion Matrix:\\n\", confusion_matrix(y_test, y_pred))"
      ]
    },
    {
      "cell_type": "markdown",
      "metadata": {
        "id": "YW7Z2q83OjYK"
      },
      "source": [
        "Why do we use Grid Search with Cross-Validation?\n",
        "\n",
        "**Automated Hyperparameter Tuning**\n",
        "\n",
        "Quickly tests different tree counts (n_estimators), depths (max_depth), and split sizes (min_samples_split) so you don’t have to guess.\n",
        "\n",
        "**Robust Performance Estimation**\n",
        "\n",
        "We did 3-fold CV so each setting is scored on three different train/validation splits—averaging out random fluctuations.\n",
        "\n",
        "**Easy Best-Model Selection**\n",
        "\n",
        "GridSearchCV tracks all results and hands you the top parameters (best_params_) and their CV score (best_score_).\n",
        "\n",
        "**Final Generalization Check**\n",
        "\n",
        "Retraining on all training data with the best settings, then evaluating on the hold-out test set, confirms our model truly generalizes."
      ]
    },
    {
      "cell_type": "code",
      "execution_count": 18,
      "metadata": {
        "colab": {
          "base_uri": "https://localhost:8080/",
          "height": 607
        },
        "id": "e3YclOUeHqLo",
        "outputId": "884a380d-7cae-4f39-ff5a-4736f9ae51d4"
      },
      "outputs": [
        {
          "data": {
            "image/png": "[encoded data removed]",
            "text/plain": [
              "<Figure size 1000x600 with 3 Axes>"
            ]
          },
          "metadata": {},
          "output_type": "display_data"
        }
      ],
      "source": [
        "#  Compute confusion matrix\n",
        "cm = confusion_matrix(y_test, y_pred)\n",
        "\n",
        "\n",
        "metrics_text = (\n",
        "    f\"Accuracy : {accuracy_rf:.2f}\\n\"\n",
        "    f\"Precision: {precision_rf:.2f}\\n\"\n",
        "    f\"Recall   : {recall_rf:.2f}\\n\"\n",
        "    f\"F1 Score : {f1_rf:.2f}\"\n",
        ")\n",
        "\n",
        "# Plot side-by-side\n",
        "fig = plt.figure(figsize=(10, 6))\n",
        "# left: confusion matrix\n",
        "ax_cm = fig.add_subplot(1, 2, 1)\n",
        "sns.heatmap(cm, annot=True, fmt=\"d\", ax=ax_cm, cmap=\"Blues\")\n",
        "ax_cm.set_title(\"Confusion Matrix\")\n",
        "ax_cm.set_xlabel(\"Predicted\")\n",
        "ax_cm.set_ylabel(\"Actual\")\n",
        "\n",
        "# right: metrics\n",
        "ax_txt = fig.add_subplot(1, 2, 2)\n",
        "ax_txt.axis(\"off\")\n",
        "ax_txt.text(0, 0.5, metrics_text, fontsize=12, va=\"center\")\n",
        "\n",
        "plt.tight_layout()\n",
        "plt.show()\n",
        "\n"
      ]
    },
    {
      "cell_type": "code",
      "execution_count": null,
      "metadata": {},
      "outputs": [],
      "source": []
    }
  ],
  "metadata": {
    "colab": {
      "provenance": []
    },
    "kernelspec": {
      "display_name": "Python 3",
      "name": "python3"
    },
    "language_info": {
      "codemirror_mode": {
        "name": "ipython",
        "version": 3
      },
      "file_extension": ".py",
      "mimetype": "text/x-python",
      "name": "python",
      "nbconvert_exporter": "python",
      "pygments_lexer": "ipython3",
      "version": "3.11.9"
    }
  },
  "nbformat": 4,
  "nbformat_minor": 0
}
